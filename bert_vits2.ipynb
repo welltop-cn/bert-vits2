{
 "cells": [
  {
   "cell_type": "code",
   "execution_count": 1,
   "id": "1ed0c29b-b995-4436-a2e7-1dcd36feaad6",
   "metadata": {},
   "outputs": [
    {
     "name": "stderr",
     "output_type": "stream",
     "text": [
      "/root/anaconda3/envs/py3.10/lib/python3.10/site-packages/tqdm/auto.py:22: TqdmWarning: IProgress not found. Please update jupyter and ipywidgets. See https://ipywidgets.readthedocs.io/en/stable/user_install.html\n",
      "  from .autonotebook import tqdm as notebook_tqdm\n"
     ]
    }
   ],
   "source": [
    "from infer import infer, get_net_g, latest_version\n",
    "import torch\n",
    "from server_fastapi import Models\n",
    "from config import config \n",
    "import os\n",
    "from IPython.display import Audio\n",
    "from scipy.io.wavfile import write as write_wav\n",
    "\n",
    "\n",
    "speaker = \"poki\""
   ]
  },
  {
   "cell_type": "markdown",
   "id": "4d748172-f16b-4f46-977f-f283a5c358b4",
   "metadata": {},
   "source": [
    "# Train"
   ]
  },
  {
   "cell_type": "code",
   "execution_count": 2,
   "id": "e398f60f-a011-431a-bc8f-d4e8008242e9",
   "metadata": {},
   "outputs": [
    {
     "name": "stdout",
     "output_type": "stream",
     "text": [
      "环境初始化完成\n"
     ]
    }
   ],
   "source": [
    "%mkdir Data/{speaker}\n",
    "%mkdir Data/{speaker}/audios\n",
    "%mkdir Data/{speaker}/audios/raw\n",
    "%mkdir Data/{speaker}/audios/wavs\n",
    "%mkdir Data/{speaker}/filelists\n",
    "%mkdir Data/{speaker}/models\n",
    "%cp configs/config.json config.yml  Data/{speaker}\n",
    "%cp Data/base/*.pth Data/{speaker}/models\n",
    "!echo \"环境初始化完成\""
   ]
  },
  {
   "cell_type": "code",
   "execution_count": 3,
   "id": "a02797a0-a987-4511-b636-a4445ccb50ee",
   "metadata": {},
   "outputs": [],
   "source": [
    "# 从Alice项目拷贝数据\n",
    "%cp ../Alice_split_toolset/dataset/{speaker}/*wav Data/{speaker}/audios/raw\n",
    "%cp ../Alice_split_toolset/dataset/{speaker}/short_character_anno.list  Data/{speaker}/filelists"
   ]
  },
  {
   "cell_type": "code",
   "execution_count": 4,
   "id": "9047c6de-e86c-45ab-88ea-b5159304ceb9",
   "metadata": {},
   "outputs": [],
   "source": [
    "# 检查config.yml，根据修改config.yml，并放入Data进行备份\n",
    "%cp Data/{speaker}/config.yml  ."
   ]
  },
  {
   "cell_type": "code",
   "execution_count": 3,
   "id": "80018d14-1c2a-4c5a-8fe1-d1f71cc4f400",
   "metadata": {},
   "outputs": [],
   "source": [
    "# 上传数据至Data\n",
    "\n",
    "# 生成filelists\n",
    "\"派蒙_1.wav|派蒙|ZH|前面的区域，以后再来探索吧！\"\n",
    "file_lst = [x[:-4] for x in os.listdir(f\"Data/{speaker}/audios/raw\") if x.endswith(\".wav\")]\n",
    "with open(f\"Data/{speaker}/filelists/short_character_anno.list\", 'w') as fo:\n",
    "    for file_name in file_lst:\n",
    "        with open(f\"Data/{speaker}/audios/raw/{file_name}.lab\") as fi:\n",
    "            text = [line.strip() for line in fi.readlines()][0]\n",
    "            print(f\"Data/{speaker}/audios/wavs/{file_name}.wav|ying_en|EN|{text}\", file=fo)"
   ]
  },
  {
   "cell_type": "code",
   "execution_count": 8,
   "id": "da418a1a-cffc-48ac-92ab-8243369a0768",
   "metadata": {},
   "outputs": [
    {
     "name": "stdout",
     "output_type": "stream",
     "text": [
      "140it [00:00, 747.03it/s]\n",
      "音频重采样完毕!\n",
      "\u001b[0m"
     ]
    }
   ],
   "source": [
    "!/root/anaconda3/envs/py3.10/bin/python3 resample.py"
   ]
  },
  {
   "cell_type": "code",
   "execution_count": 9,
   "id": "9a67db14-f163-4137-ac0d-c34236f311fc",
   "metadata": {},
   "outputs": [
    {
     "name": "stdout",
     "output_type": "stream",
     "text": [
      "  0%|                                                   | 0/140 [00:00<?, ?it/s]Building prefix dict from the default dictionary ...\n",
      "Loading model from cache /tmp/jieba.cache\n",
      "Loading model cost 0.670 seconds.\n",
      "Prefix dict has been built successfully.\n",
      "100%|████████████████████████████████████████| 140/140 [00:01<00:00, 115.44it/s]\n",
      "总重复音频数：0，总未找到的音频数:0\n",
      "训练集和验证集生成完成！\n",
      "\u001b[0m"
     ]
    }
   ],
   "source": [
    "# 划分标注数据训练集和验证集\n",
    "!/root/anaconda3/envs/py3.10/bin/python3 preprocess_text.py"
   ]
  },
  {
   "cell_type": "code",
   "execution_count": 10,
   "id": "8e02c601-3e88-4110-9dc2-b0e247306401",
   "metadata": {},
   "outputs": [
    {
     "name": "stdout",
     "output_type": "stream",
     "text": [
      "\n",
      "\n",
      "             ██████╗   ██████╗  ███████╗  ███╗   ██╗  ██████╗\n",
      "            ██╔═══██╗  ██╔══██╗ ██╔════╝  ████╗  ██║    ██╔═╝\n",
      "            ██║   ██║  ██████╔╝ █████╗    ██╔██╗ ██║    ██║\n",
      "            ██║   ██║  ██╔═══╝  ██╔══╝    ██║╚██╗██║    ██║\n",
      "            ╚██████╔╝  ██║      ███████╗  ██║ ╚████║  ██████╗\n",
      "             ╚═════╝   ╚═╝      ╚══════╝  ╚═╝  ╚═══╝  ╚═════╝\n",
      "\n",
      "         \n",
      "\n",
      "  Your token was saved to `/root/.openi/token.json`\n",
      "  Successfully logged in as `taylorchaos` @https://openi.pcl.ac.cn!\n",
      "\n",
      "  0%|                                                   | 0/140 [00:00<?, ?it/s]Special tokens have been added in the vocabulary, make sure the associated word embeddings are fine-tuned or trained.\n",
      "Special tokens have been added in the vocabulary, make sure the associated word embeddings are fine-tuned or trained.\n",
      "Special tokens have been added in the vocabulary, make sure the associated word embeddings are fine-tuned or trained.\n",
      "Special tokens have been added in the vocabulary, make sure the associated word embeddings are fine-tuned or trained.\n",
      "Some weights of the model checkpoint at ./bert/chinese-roberta-wwm-ext-large were not used when initializing BertForMaskedLM: ['bert.pooler.dense.bias', 'cls.seq_relationship.weight', 'cls.seq_relationship.bias', 'bert.pooler.dense.weight']\n",
      "- This IS expected if you are initializing BertForMaskedLM from the checkpoint of a model trained on another task or with another architecture (e.g. initializing a BertForSequenceClassification model from a BertForPreTraining model).\n",
      "- This IS NOT expected if you are initializing BertForMaskedLM from the checkpoint of a model that you expect to be exactly identical (initializing a BertForSequenceClassification model from a BertForSequenceClassification model).\n",
      "Some weights of the model checkpoint at ./bert/chinese-roberta-wwm-ext-large were not used when initializing BertForMaskedLM: ['bert.pooler.dense.bias', 'cls.seq_relationship.weight', 'cls.seq_relationship.bias', 'bert.pooler.dense.weight']\n",
      "- This IS expected if you are initializing BertForMaskedLM from the checkpoint of a model trained on another task or with another architecture (e.g. initializing a BertForSequenceClassification model from a BertForPreTraining model).\n",
      "- This IS NOT expected if you are initializing BertForMaskedLM from the checkpoint of a model that you expect to be exactly identical (initializing a BertForSequenceClassification model from a BertForSequenceClassification model).\n",
      "Some weights of the model checkpoint at ./bert/chinese-roberta-wwm-ext-large were not used when initializing BertForMaskedLM: ['bert.pooler.dense.bias', 'cls.seq_relationship.weight', 'cls.seq_relationship.bias', 'bert.pooler.dense.weight']\n",
      "- This IS expected if you are initializing BertForMaskedLM from the checkpoint of a model trained on another task or with another architecture (e.g. initializing a BertForSequenceClassification model from a BertForPreTraining model).\n",
      "- This IS NOT expected if you are initializing BertForMaskedLM from the checkpoint of a model that you expect to be exactly identical (initializing a BertForSequenceClassification model from a BertForSequenceClassification model).\n",
      "Some weights of the model checkpoint at ./bert/chinese-roberta-wwm-ext-large were not used when initializing BertForMaskedLM: ['bert.pooler.dense.bias', 'cls.seq_relationship.weight', 'cls.seq_relationship.bias', 'bert.pooler.dense.weight']\n",
      "- This IS expected if you are initializing BertForMaskedLM from the checkpoint of a model trained on another task or with another architecture (e.g. initializing a BertForSequenceClassification model from a BertForPreTraining model).\n",
      "- This IS NOT expected if you are initializing BertForMaskedLM from the checkpoint of a model that you expect to be exactly identical (initializing a BertForSequenceClassification model from a BertForSequenceClassification model).\n",
      "100%|█████████████████████████████████████████| 140/140 [00:09<00:00, 14.78it/s]\n",
      "bert生成完毕!, 共有140个bert.pt生成!\n"
     ]
    }
   ],
   "source": [
    "# 生成bert文件\n",
    "!/root/anaconda3/envs/py3.10/bin/python3 bert_gen.py"
   ]
  },
  {
   "cell_type": "code",
   "execution_count": null,
   "id": "5fecbff0-ccb1-4b6b-9b4e-ee799dd5776a",
   "metadata": {},
   "outputs": [],
   "source": [
    "# 开始训练，命令行执行！\n",
    "\"python3 train_ms.py\""
   ]
  },
  {
   "cell_type": "markdown",
   "id": "35a9df52-5ddf-442b-90b0-a57cd9976223",
   "metadata": {},
   "source": [
    "# 推理infer"
   ]
  },
  {
   "cell_type": "code",
   "execution_count": 2,
   "id": "1d99bff8-0c78-4a3d-885b-7e9ac6b5c087",
   "metadata": {},
   "outputs": [
    {
     "name": "stderr",
     "output_type": "stream",
     "text": [
      "/root/anaconda3/envs/py3.10/lib/python3.10/site-packages/torch/nn/utils/weight_norm.py:30: UserWarning: torch.nn.utils.weight_norm is deprecated in favor of torch.nn.utils.parametrizations.weight_norm.\n",
      "  warnings.warn(\"torch.nn.utils.weight_norm is deprecated in favor of torch.nn.utils.parametrizations.weight_norm.\")\n"
     ]
    },
    {
     "name": "stdout",
     "output_type": "stream",
     "text": [
      "model.py-> n_speakers=1\n",
      "\u001b[32m12-04 10:44:23\u001b[0m \u001b[32m\u001b[1mSUCCESS  \u001b[0m| server_fastapi.py:101 | 添加模型/root/workspace/taiyou.zhang/tts/Bert-VITS2-v202_launch_yingAndBachong/Data/poki/models/G_30000.pth，使用配置文件/root/workspace/taiyou.zhang/tts/Bert-VITS2-v202_launch_yingAndBachong/Data/poki/config.json\n"
     ]
    }
   ],
   "source": [
    "loaded_models = Models()\n",
    "# 加载模型\n",
    "models_info = config.server_config.models\n",
    "for model_info in models_info:\n",
    "    loaded_models.init_model(                                                                                                                                                                       \n",
    "        config_path=model_info[\"config\"],\n",
    "        model_path=model_info[\"model\"],\n",
    "        device=model_info[\"device\"],\n",
    "        language=model_info[\"language\"],\n",
    "    )"
   ]
  },
  {
   "cell_type": "code",
   "execution_count": 3,
   "id": "22adec96-0d86-478f-a131-e61eccb810d4",
   "metadata": {},
   "outputs": [
    {
     "data": {
      "text/plain": [
       "dict_keys([0])"
      ]
     },
     "execution_count": 3,
     "metadata": {},
     "output_type": "execute_result"
    }
   ],
   "source": [
    "loaded_models.models.keys()"
   ]
  },
  {
   "cell_type": "code",
   "execution_count": 4,
   "id": "69c4509d-17da-4a40-a115-9b546fc02fb5",
   "metadata": {},
   "outputs": [
    {
     "data": {
      "text/plain": [
       "dict_keys([0])"
      ]
     },
     "execution_count": 4,
     "metadata": {},
     "output_type": "execute_result"
    }
   ],
   "source": [
    "loaded_models.models[0].id2spk.keys()"
   ]
  },
  {
   "cell_type": "code",
   "execution_count": 5,
   "id": "b0580366-e214-4ad6-8a5d-f76d001756a2",
   "metadata": {},
   "outputs": [
    {
     "name": "stdout",
     "output_type": "stream",
     "text": [
      "/root/workspace/taiyou.zhang/tts/Bert-VITS2-v202_launch_yingAndBachong/Data/poki/models/G_30000.pth\n"
     ]
    }
   ],
   "source": [
    "print(os.path.realpath(loaded_models.models[0].model_path))"
   ]
  },
  {
   "cell_type": "code",
   "execution_count": 6,
   "id": "7b529c7a-439e-4829-a5a3-329e1ae2dcc7",
   "metadata": {},
   "outputs": [],
   "source": [
    "model_id=0\n",
    "\n",
    "\n",
    "text = \"Is my charm too hot for you to resist?\"\n",
    "sdp_ratio = 0.2\n",
    "noise_scale = 0.2\n",
    "noise_scale_w = 0.9\n",
    "length_scale = 1\n",
    "sid=speaker                                                                                                                                                           \n",
    "language=\"EN\"\n",
    "hps=loaded_models.models[model_id].hps\n",
    "net_g=loaded_models.models[model_id].net_g\n",
    "device=loaded_models.models[model_id].device"
   ]
  },
  {
   "cell_type": "code",
   "execution_count": 8,
   "id": "4eca527a-43b0-454d-9265-6e84ea53c09f",
   "metadata": {},
   "outputs": [],
   "source": [
    "cases = \"\"\"What do you think of my outfit tonight? Is it as spicy as my style? \n",
    "Is my charm too hot for you to resist? \n",
    "It's so late, aren't you planning to dance with me? I can't promise I won't make your heart race~ \n",
    "I heard you're quite good at mixing drinks. How about you make me one and see if it can match my spiciness? \n",
    "Do you know? When I dance, I feel like I have the whole world in my control. That feeling, full of power and freedom. Do you want to experience being dominated by such a feeling? \n",
    "I love the thrill of speed at night, riding a motorcycle on the road, the wind howling in my ears. You won’t know this kind of excitement unless you try it. Maybe, I could take you for a ride. \n",
    "Sometimes, I feel like a storm, unpredictable and uncontrollable. Are you willing to approach me, to experience the eye of this storm? But I can’t guarantee your safety. \n",
    "In this world, I only believe in two things: passionate dance steps and my intuition. Now, my intuition tells me you might be an interesting dance partner. Do you dare to accept this challenge? \n",
    "People always say I'm like fire, passionate, dangerous, unpredictable. But do you know? Even the wildest flame needs to be tamed. Do you think you have the courage? \n",
    "When I let go of everything and just move to the rhythm of the music, I feel my truest self. Do you want to see the real me? But I can't guarantee you won’t be mesmerized. \n",
    "I love the night sky; it reminds me of infinite possibilities. You know? Each star is like an unfinished story, waiting for someone to explore. Would you like to explore these stories with me? \n",
    "Do you know? Sometimes, a glance is enough to captivate someone. I like that feeling of communicating with just a look. Do you want to try and see if we can communicate only with our eyes? \n",
    "Sometimes, I feel like a song, fast and passionate. Do you want to hear the melody of my life? Maybe, it will make your heart race. \n",
    "I like to weave through crowds, feeling the breath and stories of each person. But do you know? Among all these stories, the one I'm most interested in might be yours. Would you like to tell me your story? \"\"\".split('\\n')\n",
    "\n",
    "cases2 = \"\"\"I... I just feel lost. Everything I knew about my life... it's all changing.\n",
    "This too shall pass,\" right? That's what I keep telling myself.\"\n",
    "Thank you. It's just... everything is so uncertain now. I don't even know where to start.\n",
    "Maybe you're right. I just need to take things one day at a time.\n",
    "You might be right. It’s been all about coping recently.\n",
    "You're full of surprises.\n",
    "It's perfect. I feel... understood, somehow.\n",
    "Thank you. I can’t remember the last time I felt this at ease. It’s like... stepping into a world where I can just be me.\n",
    "I'm glad you did. That kiss was... more than I imagined.\n",
    "It does feel right. Like all the chaos in my life fades away in moments like this.\"\"\".split('\\n')\n",
    "for i, text in enumerate(cases2):\n",
    "    audio_array = infer(text=text,\n",
    "        sdp_ratio=sdp_ratio,\n",
    "        noise_scale=noise_scale,\n",
    "        noise_scale_w=noise_scale_w,\n",
    "        length_scale=length_scale,\n",
    "        sid=sid,\n",
    "        language=language,\n",
    "        hps=hps,\n",
    "        net_g=net_g,\n",
    "        device=device,\n",
    "    )\n",
    "    write_wav(f\"../audios/{speaker}/BV2_chat{i}_{speaker}_30000.wav\", 44100, audio_array)"
   ]
  },
  {
   "cell_type": "markdown",
   "id": "9732c278-e08e-4b34-9c39-e4d1210b3a0d",
   "metadata": {},
   "source": [
    "# 清洗数据"
   ]
  },
  {
   "cell_type": "code",
   "execution_count": 4,
   "id": "0f02ab75-6533-4e57-8bcc-65380f591abd",
   "metadata": {
    "collapsed": true,
    "jupyter": {
     "outputs_hidden": true
    },
    "tags": []
   },
   "outputs": [
    {
     "name": "stdout",
     "output_type": "stream",
     "text": [
      "MoviePy - Writing audio in Data/rooney/4811100_da3-1-16-00.10.35.259-00.10.55.056-seg12.wav\n"
     ]
    },
    {
     "name": "stderr",
     "output_type": "stream",
     "text": [
      "                                                                    \r"
     ]
    },
    {
     "name": "stdout",
     "output_type": "stream",
     "text": [
      "MoviePy - Done.\n",
      "MoviePy - Writing audio in Data/rooney/5779409_da3-1-16-00.01.24.728-00.01.33.393-seg1.wav\n"
     ]
    },
    {
     "name": "stderr",
     "output_type": "stream",
     "text": [
      "                                                        \r"
     ]
    },
    {
     "name": "stdout",
     "output_type": "stream",
     "text": [
      "MoviePy - Done.\n",
      "MoviePy - Writing audio in Data/rooney/4811100_da3-1-16-00.08.50.432-00.09.20.022-seg10.wav\n"
     ]
    },
    {
     "name": "stderr",
     "output_type": "stream",
     "text": [
      "                                                                    \r"
     ]
    },
    {
     "name": "stdout",
     "output_type": "stream",
     "text": [
      "MoviePy - Done.\n",
      "MoviePy - Writing audio in Data/rooney/5779409_da3-1-16-00.05.14.702-00.05.27.189-seg6.wav\n"
     ]
    },
    {
     "name": "stderr",
     "output_type": "stream",
     "text": [
      "                                                        \r"
     ]
    },
    {
     "name": "stdout",
     "output_type": "stream",
     "text": [
      "MoviePy - Done.\n",
      "MoviePy - Writing audio in Data/rooney/5209380_da3-1-16-00.02.40.931-00.02.52.075-seg2.wav\n"
     ]
    },
    {
     "name": "stderr",
     "output_type": "stream",
     "text": [
      "                                                        \r"
     ]
    },
    {
     "name": "stdout",
     "output_type": "stream",
     "text": [
      "MoviePy - Done.\n",
      "MoviePy - Writing audio in Data/rooney/4811100_da3-1-16-00.04.07.552-00.04.55.041-seg04.wav\n"
     ]
    },
    {
     "name": "stderr",
     "output_type": "stream",
     "text": [
      "                                                                     \r"
     ]
    },
    {
     "name": "stdout",
     "output_type": "stream",
     "text": [
      "MoviePy - Done.\n",
      "MoviePy - Writing audio in Data/rooney/5779409_da3-1-16-00.02.18.425-00.02.25.842-seg2.wav\n"
     ]
    },
    {
     "name": "stderr",
     "output_type": "stream",
     "text": [
      "                                                        \r"
     ]
    },
    {
     "name": "stdout",
     "output_type": "stream",
     "text": [
      "MoviePy - Done.\n",
      "MoviePy - Writing audio in Data/rooney/5209380_da3-1-16-00.00.17.814-00.00.47.354-seg1.wav\n"
     ]
    },
    {
     "name": "stderr",
     "output_type": "stream",
     "text": [
      "                                                                    \r"
     ]
    },
    {
     "name": "stdout",
     "output_type": "stream",
     "text": [
      "MoviePy - Done.\n",
      "MoviePy - Writing audio in Data/rooney/5130939_da3-1-16-00.01.54.180-00.02.05.934-seg1.wav\n"
     ]
    },
    {
     "name": "stderr",
     "output_type": "stream",
     "text": [
      "                                                        \r"
     ]
    },
    {
     "name": "stdout",
     "output_type": "stream",
     "text": [
      "MoviePy - Done.\n",
      "MoviePy - Writing audio in Data/rooney/5130939_da3-1-16-00.05.56.224-00.06.04.491-seg2.wav\n"
     ]
    },
    {
     "name": "stderr",
     "output_type": "stream",
     "text": [
      "                                                        \r"
     ]
    },
    {
     "name": "stdout",
     "output_type": "stream",
     "text": [
      "MoviePy - Done.\n",
      "MoviePy - Writing audio in Data/rooney/4811100_da3-1-16-00.00.36.744-00.01.06.435-seg01.wav\n"
     ]
    },
    {
     "name": "stderr",
     "output_type": "stream",
     "text": [
      "                                                                    \r"
     ]
    },
    {
     "name": "stdout",
     "output_type": "stream",
     "text": [
      "MoviePy - Done.\n",
      "MoviePy - Writing audio in Data/rooney/5779409_da3-1-16-00.02.33.248-00.02.38.126-seg3.wav\n"
     ]
    },
    {
     "name": "stderr",
     "output_type": "stream",
     "text": [
      "                                                        \r"
     ]
    },
    {
     "name": "stdout",
     "output_type": "stream",
     "text": [
      "MoviePy - Done.\n",
      "MoviePy - Writing audio in Data/rooney/4811100_da3-1-16-00.07.10.559-00.07.32.138-seg08.wav\n"
     ]
    },
    {
     "name": "stderr",
     "output_type": "stream",
     "text": [
      "                                                                    \r"
     ]
    },
    {
     "name": "stdout",
     "output_type": "stream",
     "text": [
      "MoviePy - Done.\n",
      "MoviePy - Writing audio in Data/rooney/4811100_da3-1-16-00.05.36.322-00.05.53.102-seg06.wav\n"
     ]
    },
    {
     "name": "stderr",
     "output_type": "stream",
     "text": [
      "                                                                    \r"
     ]
    },
    {
     "name": "stdout",
     "output_type": "stream",
     "text": [
      "MoviePy - Done.\n",
      "MoviePy - Writing audio in Data/rooney/4811100_da3-1-16-00.09.46.157-00.10.28.899-seg11.wav\n"
     ]
    },
    {
     "name": "stderr",
     "output_type": "stream",
     "text": [
      "                                                                    \r"
     ]
    },
    {
     "name": "stdout",
     "output_type": "stream",
     "text": [
      "MoviePy - Done.\n",
      "MoviePy - Writing audio in Data/rooney/4811100_da3-1-16-00.01.52.238-00.02.58.703-seg02.wav\n"
     ]
    },
    {
     "name": "stderr",
     "output_type": "stream",
     "text": [
      "                                                                      \r"
     ]
    },
    {
     "name": "stdout",
     "output_type": "stream",
     "text": [
      "MoviePy - Done.\n",
      "MoviePy - Writing audio in Data/rooney/4811100_da3-1-16-00.06.04.448-00.06.51.118-seg07.wav\n"
     ]
    },
    {
     "name": "stderr",
     "output_type": "stream",
     "text": [
      "                                                                     \r"
     ]
    },
    {
     "name": "stdout",
     "output_type": "stream",
     "text": [
      "MoviePy - Done.\n",
      "MoviePy - Writing audio in Data/rooney/4811100_da3-1-16-00.03.16.136-00.03.44.735-seg03.wav\n"
     ]
    },
    {
     "name": "stderr",
     "output_type": "stream",
     "text": [
      "                                                                    \r"
     ]
    },
    {
     "name": "stdout",
     "output_type": "stream",
     "text": [
      "MoviePy - Done.\n",
      "MoviePy - Writing audio in Data/rooney/5779409_da3-1-16-00.05.54.326-00.06.07.356-seg7.wav\n"
     ]
    },
    {
     "name": "stderr",
     "output_type": "stream",
     "text": [
      "                                                        \r"
     ]
    },
    {
     "name": "stdout",
     "output_type": "stream",
     "text": [
      "MoviePy - Done.\n",
      "MoviePy - Writing audio in Data/rooney/4811100_da3-1-16-00.07.47.001-00.08.04.444-seg09.wav\n"
     ]
    },
    {
     "name": "stderr",
     "output_type": "stream",
     "text": [
      "                                                                    \r"
     ]
    },
    {
     "name": "stdout",
     "output_type": "stream",
     "text": [
      "MoviePy - Done.\n",
      "MoviePy - Writing audio in Data/rooney/4811100_da3-1-16-00.04.58.880-00.05.33.325-seg05.wav\n"
     ]
    },
    {
     "name": "stderr",
     "output_type": "stream",
     "text": [
      "                                                                    \r"
     ]
    },
    {
     "name": "stdout",
     "output_type": "stream",
     "text": [
      "MoviePy - Done.\n",
      "MoviePy - Writing audio in Data/rooney/5779409_da3-1-16-00.03.08.384-00.03.15.216-seg4.wav\n"
     ]
    },
    {
     "name": "stderr",
     "output_type": "stream",
     "text": [
      "                                                        \r"
     ]
    },
    {
     "name": "stdout",
     "output_type": "stream",
     "text": [
      "MoviePy - Done.\n",
      "MoviePy - Writing audio in Data/rooney/5779409_da3-1-16-00.03.39.582-00.03.45.617-seg5.wav\n"
     ]
    },
    {
     "name": "stderr",
     "output_type": "stream",
     "text": [
      "                                                        \r"
     ]
    },
    {
     "name": "stdout",
     "output_type": "stream",
     "text": [
      "MoviePy - Done.\n",
      "MoviePy - Writing audio in Data/rooney/5779409_da3-1-16-00.07.07.821-00.07.23.849-seg8.wav\n"
     ]
    },
    {
     "name": "stderr",
     "output_type": "stream",
     "text": [
      "                                                                    "
     ]
    },
    {
     "name": "stdout",
     "output_type": "stream",
     "text": [
      "MoviePy - Done.\n"
     ]
    },
    {
     "name": "stderr",
     "output_type": "stream",
     "text": [
      "\r"
     ]
    }
   ],
   "source": [
    "# mp4提取wav，视频抽取音频\n",
    "\n",
    "import os\n",
    "from moviepy.editor import VideoFileClip\n",
    "\n",
    "\n",
    "def extract_audio_from_video(video_path, output_audio_path):\n",
    "    # 加载视频文件\n",
    "    video = VideoFileClip(video_path)\n",
    "    \n",
    "    # 提取音频\n",
    "    audio = video.audio\n",
    "\n",
    "    # 保存音频为WAV格式\n",
    "    audio.write_audiofile(output_audio_path, codec='pcm_s16le')\n",
    "\n",
    "root_path = \"Data/rooney/\"\n",
    "files = [root_path + x for x in os.listdir(root_path) if x.endswith('mp4')]\n",
    "for file in files:\n",
    "    extract_audio_from_video(file, file.replace(\"mp4\", \"wav\"))"
   ]
  },
  {
   "cell_type": "code",
   "execution_count": 5,
   "id": "ef3a6906-a2a4-4faa-8d48-d49861a1f7c9",
   "metadata": {},
   "outputs": [
    {
     "name": "stdout",
     "output_type": "stream",
     "text": [
      "'10_4811100_da3-1-16-00.07.10.559-00.07.32.138-seg08_(Vocals).wav'\n",
      "'11_5130939_da3-1-16-00.01.54.180-00.02.05.934-seg1_(Vocals).wav'\n",
      "'12_5130939_da3-1-16-00.05.56.224-00.06.04.491-seg2_(Vocals).wav'\n",
      "'13_5209380_da3-1-16-00.00.17.814-00.00.47.354-seg1_(Vocals).wav'\n",
      "'14_4811100_da3-1-16-00.01.52.238-00.02.58.703-seg02_(Vocals).wav'\n",
      "'15_5779409_da3-1-16-00.02.33.248-00.02.38.126-seg3_(Vocals).wav'\n",
      "'16_4811100_da3-1-16-00.04.58.880-00.05.33.325-seg05_(Vocals).wav'\n",
      "'17_4811100_da3-1-16-00.09.46.157-00.10.28.899-seg11_(Vocals).wav'\n",
      "'18_5779409_da3-1-16-00.07.07.821-00.07.23.849-seg8_(Vocals).wav'\n",
      "'19_4811100_da3-1-16-00.03.16.136-00.03.44.735-seg03_(Vocals).wav'\n",
      "'20_4811100_da3-1-16-00.06.04.448-00.06.51.118-seg07_(Vocals).wav'\n",
      "'21_4811100_da3-1-16-00.07.47.001-00.08.04.444-seg09_(Vocals).wav'\n",
      "'22_5779409_da3-1-16-00.03.08.384-00.03.15.216-seg4_(Vocals).wav'\n",
      "'23_5779409_da3-1-16-00.03.39.582-00.03.45.617-seg5_(Vocals).wav'\n",
      "'24_5779409_da3-1-16-00.05.54.326-00.06.07.356-seg7_(Vocals).wav'\n",
      "'3_4811100_da3-1-16-00.08.50.432-00.09.20.022-seg10_(Vocals).wav'\n",
      "'4_4811100_da3-1-16-00.10.35.259-00.10.55.056-seg12_(Vocals).wav'\n",
      "'5_5209380_da3-1-16-00.02.40.931-00.02.52.075-seg2_(Vocals).wav'\n",
      "'6_5779409_da3-1-16-00.05.14.702-00.05.27.189-seg6_(Vocals).wav'\n",
      "'7_5779409_da3-1-16-00.01.24.728-00.01.33.393-seg1_(Vocals).wav'\n",
      "'8_4811100_da3-1-16-00.00.36.744-00.01.06.435-seg01_(Vocals).wav'\n",
      "'9_4811100_da3-1-16-00.05.36.322-00.05.53.102-seg06_(Vocals).wav'\n",
      " afterglow\n",
      " bachong\n",
      " base\n",
      " rooney\n",
      " ying\n",
      " ying_en\n"
     ]
    }
   ],
   "source": [
    "!ls Data/"
   ]
  },
  {
   "cell_type": "code",
   "execution_count": 3,
   "id": "52f60cda-7e75-43c7-9b72-4cd00d6cd903",
   "metadata": {},
   "outputs": [],
   "source": [
    "from text import *\n",
    "from text.chinese import text_normalize, g2p"
   ]
  },
  {
   "cell_type": "code",
   "execution_count": 4,
   "id": "cdcfdee0",
   "metadata": {},
   "outputs": [
    {
     "name": "stdout",
     "output_type": "stream",
     "text": [
      "啊!但是'原神'是由,米哈游自主,'研发'的一款全.新开放世界.冒险游戏\n"
     ]
    }
   ],
   "source": [
    "text = \"啊！但是《原神》是由,米哈\\游自主，  [研发]的一款全.新开放世界.冒险游戏\"\n",
    "text = text_normalize(text)\n",
    "print(text)"
   ]
  },
  {
   "cell_type": "code",
   "execution_count": 5,
   "id": "df4b973f",
   "metadata": {},
   "outputs": [
    {
     "name": "stderr",
     "output_type": "stream",
     "text": [
      "Building prefix dict from the default dictionary ...\n",
      "Loading model from cache /tmp/jieba.cache\n",
      "Loading model cost 0.724 seconds.\n",
      "Prefix dict has been built successfully.\n"
     ]
    }
   ],
   "source": [
    "phones, tones, word2ph = g2p(text)"
   ]
  },
  {
   "cell_type": "code",
   "execution_count": 6,
   "id": "6c88c66e",
   "metadata": {},
   "outputs": [
    {
     "data": {
      "text/plain": [
       "['_',\n",
       " 'AA',\n",
       " 'a',\n",
       " '!',\n",
       " 'd',\n",
       " 'an',\n",
       " 'sh',\n",
       " 'ir',\n",
       " \"'\",\n",
       " 'y',\n",
       " 'van',\n",
       " 'sh',\n",
       " 'en',\n",
       " \"'\",\n",
       " 'sh',\n",
       " 'ir',\n",
       " 'y',\n",
       " 'ou',\n",
       " ',',\n",
       " 'm',\n",
       " 'i',\n",
       " 'h',\n",
       " 'a',\n",
       " 'y',\n",
       " 'ou',\n",
       " 'z',\n",
       " 'i0',\n",
       " 'zh',\n",
       " 'u',\n",
       " ',',\n",
       " \"'\",\n",
       " 'y',\n",
       " 'En',\n",
       " 'f',\n",
       " 'a',\n",
       " \"'\",\n",
       " 'd',\n",
       " 'e',\n",
       " 'y',\n",
       " 'i',\n",
       " 'k',\n",
       " 'uan',\n",
       " 'q',\n",
       " 'van',\n",
       " '.',\n",
       " 'x',\n",
       " 'in',\n",
       " 'k',\n",
       " 'ai',\n",
       " 'f',\n",
       " 'ang',\n",
       " 'sh',\n",
       " 'ir',\n",
       " 'j',\n",
       " 'ie',\n",
       " '.',\n",
       " 'm',\n",
       " 'ao',\n",
       " 'x',\n",
       " 'ian',\n",
       " 'y',\n",
       " 'ou',\n",
       " 'x',\n",
       " 'i',\n",
       " '_']"
      ]
     },
     "execution_count": 6,
     "metadata": {},
     "output_type": "execute_result"
    }
   ],
   "source": [
    "phones"
   ]
  },
  {
   "cell_type": "code",
   "execution_count": null,
   "id": "2edb0565",
   "metadata": {},
   "outputs": [],
   "source": []
  }
 ],
 "metadata": {
  "kernelspec": {
   "display_name": "py3.10",
   "language": "python",
   "name": "py3.10"
  },
  "language_info": {
   "codemirror_mode": {
    "name": "ipython",
    "version": 3
   },
   "file_extension": ".py",
   "mimetype": "text/x-python",
   "name": "python",
   "nbconvert_exporter": "python",
   "pygments_lexer": "ipython3",
   "version": "3.10.12"
  }
 },
 "nbformat": 4,
 "nbformat_minor": 5
}
